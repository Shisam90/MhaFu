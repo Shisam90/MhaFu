{
 "cells": [
  {
   "cell_type": "code",
   "execution_count": 87,
   "id": "f7a68e05",
   "metadata": {},
   "outputs": [],
   "source": [
    "#pip install notebook\n",
    "#jupyter notebook"
   ]
  },
  {
   "cell_type": "code",
   "execution_count": 88,
   "id": "cf0ed070",
   "metadata": {},
   "outputs": [],
   "source": [
    "import pandas as pd\n",
    "import numpy as np\n",
    "from functools import cache"
   ]
  },
  {
   "cell_type": "code",
   "execution_count": 89,
   "id": "63fb0f70",
   "metadata": {},
   "outputs": [],
   "source": [
    "@cache\n",
    "def get_dataset():\n",
    "    return pd.read_csv(\"dataset.csv\", compression=\"gzip\")\n",
    "\n",
    "\n",
    "dataset = get_dataset()"
   ]
  },
  {
   "cell_type": "code",
   "execution_count": 90,
   "id": "68bfafa6",
   "metadata": {},
   "outputs": [],
   "source": [
    "def scaling(dataframe):\n",
    "    data = dataframe.iloc[:, 6:15].to_numpy()\n",
    "    mean = np.mean(data, axis=0)\n",
    "    std = np.std(data, axis=0)\n",
    "    prep_data = (data - mean) / std\n",
    "    return prep_data, mean, std"
   ]
  },
  {
   "cell_type": "code",
   "execution_count": 91,
   "id": "1ad23211",
   "metadata": {},
   "outputs": [],
   "source": [
    "prep_data, mean, std = scaling(dataset)"
   ]
  },
  {
   "cell_type": "code",
   "execution_count": 92,
   "id": "1d2f849c",
   "metadata": {},
   "outputs": [],
   "source": [
    "_input = []\n",
    "_input = [100, 20, 1,4,200,45,5,8,20]\n",
    "_input = (_input - mean) / std"
   ]
  },
  {
   "cell_type": "code",
   "execution_count": 93,
   "id": "67c9ac9b",
   "metadata": {},
   "outputs": [],
   "source": [
    "def cosine_similarity(a, b):\n",
    "    dot_product = np.dot(a, b)\n",
    "    norm_a = np.linalg.norm(a)\n",
    "    norm_b = np.linalg.norm(b)\n",
    "    similarity = dot_product / (norm_a * norm_b)\n",
    "    return similarity"
   ]
  },
  {
   "cell_type": "code",
   "execution_count": 94,
   "id": "625d6675",
   "metadata": {},
   "outputs": [],
   "source": [
    "def find_nearest_neighbors(prep_data, _input, n_neighbors):\n",
    "    similarities = [cosine_similarity(x, _input) for x in prep_data]\n",
    "    sorted_indices = np.argsort(similarities)[::-1]\n",
    "    print(sorted_indices[0])\n",
    "    return sorted_indices[:n_neighbors]"
   ]
  },
  {
   "cell_type": "code",
   "execution_count": 95,
   "id": "53e411a6",
   "metadata": {},
   "outputs": [
    {
     "name": "stdout",
     "output_type": "stream",
     "text": [
      "181909\n"
     ]
    }
   ],
   "source": [
    "indices = find_nearest_neighbors(prep_data, _input, n_neighbors=1)"
   ]
  },
  {
   "cell_type": "code",
   "execution_count": 96,
   "id": "ff32b3c7",
   "metadata": {},
   "outputs": [
    {
     "data": {
      "text/plain": [
       "array([-0.07956553,  0.13305833, -0.69350432, -0.79463341, -0.79131461,\n",
       "       -0.07784211,  0.67732492, -0.25325124,  0.08764054])"
      ]
     },
     "execution_count": 96,
     "metadata": {},
     "output_type": "execute_result"
    }
   ],
   "source": [
    "prep_data[181909]"
   ]
  },
  {
   "cell_type": "code",
   "execution_count": 97,
   "id": "4eec09c3",
   "metadata": {},
   "outputs": [
    {
     "name": "stdout",
     "output_type": "stream",
     "text": [
      "0.69799345381876\n"
     ]
    }
   ],
   "source": [
    "cosin_sim = cosine_similarity(prep_data[181909], _input)\n",
    "print(cosin_sim)"
   ]
  },
  {
   "cell_type": "code",
   "execution_count": null,
   "id": "2fa0f539",
   "metadata": {},
   "outputs": [],
   "source": []
  }
 ],
 "metadata": {
  "kernelspec": {
   "display_name": "Python 3 (ipykernel)",
   "language": "python",
   "name": "python3"
  },
  "language_info": {
   "codemirror_mode": {
    "name": "ipython",
    "version": 3
   },
   "file_extension": ".py",
   "mimetype": "text/x-python",
   "name": "python",
   "nbconvert_exporter": "python",
   "pygments_lexer": "ipython3",
   "version": "3.9.5"
  }
 },
 "nbformat": 4,
 "nbformat_minor": 5
}
